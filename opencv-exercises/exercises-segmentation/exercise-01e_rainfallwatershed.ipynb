{
 "cells": [
  {
   "cell_type": "code",
   "execution_count": 28,
   "metadata": {},
   "outputs": [],
   "source": [
    "import cv2\n",
    "import numpy as np\n",
    "from matplotlib import pyplot as plt\n",
    "%matplotlib inline"
   ]
  },
  {
   "cell_type": "code",
   "execution_count": 2,
   "metadata": {},
   "outputs": [],
   "source": [
    "img = cv2.imread(\"data/segmentation-test.pgm\", cv2.IMREAD_GRAYSCALE)"
   ]
  },
  {
   "cell_type": "code",
   "execution_count": 29,
   "metadata": {},
   "outputs": [
    {
     "data": {
      "image/png": "[encoded data removed]",
      "text/plain": [
       "<Figure size 432x288 with 1 Axes>"
      ]
     },
     "metadata": {
      "needs_background": "light"
     },
     "output_type": "display_data"
    }
   ],
   "source": [
    "plt.imshow(img,cmap='gray')\n",
    "plt.show()"
   ]
  },
  {
   "cell_type": "code",
   "execution_count": 67,
   "metadata": {},
   "outputs": [],
   "source": [
    "def backtrace(parent, start, end):\n",
    "    path = [end]\n",
    "    while path[-1] != start:\n",
    "        path.append(parent[path[-1]])\n",
    "    path.reverse()\n",
    "    if path[1][0] == start[0] and path[1][1] == start[1] + 1:\n",
    "        return 0\n",
    "    if path[1][0] == start[0] - 1 and path[1][1] == start[1] + 1:\n",
    "        return 1\n",
    "    if path[1][0] == start[0] - 1 and path[1][1] == start[1]:\n",
    "        return 2\n",
    "    if path[1][0] == start[0] - 1 and path[1][1] == start[1] - 1:\n",
    "        return 3\n",
    "    if path[1][0] == start[0] and path[1][1] == start[1] - 1:\n",
    "        return 4\n",
    "    if path[1][0] == start[0] + 1 and path[1][1] == start[1] - 1:\n",
    "        return 5\n",
    "    if path[1][0] == start[0] + 1 and path[1][1] == start[1]:\n",
    "        return 6\n",
    "    if path[1][0] == start[0] + 1 and path[1][1] == start[1] + 1:\n",
    "        return 7\n",
    "    return -1\n",
    "\n",
    "\n",
    "def bfs(img, start):\n",
    "    visited = np.zeros(img.shape, np.uint8)\n",
    "    parent = {}\n",
    "    queue = []\n",
    "    queue.append(start)\n",
    "    while queue:\n",
    "        node = queue.pop(0)\n",
    "        if visited[node[0], node[1]] == 0:\n",
    "            visited[node[0], node[1]] = 1\n",
    "            if img[node[0],node[1]] < img[start[0],start[1]]:\n",
    "                return backtrace(parent, start, node)\n",
    "            for i in range(-1,2):\n",
    "                for j in range(-1,2):\n",
    "                    if (not (i == 0 and j == 0)) and visited[node[0]+i,node[1]+j] == 0 and img[node[0]+i,node[1]+j] == img[start[0],start[1]]:\n",
    "                        parent[(i,j)] = node\n",
    "                        queue.append((i,j))\n",
    "\n",
    "def neighbours(image, pixel):\n",
    "    l = []\n",
    "    is_top_border = False if pixel[0]-1 >= 0 else True\n",
    "    is_bot_border = False if pixel[0]+1 < image.shape[0] else True\n",
    "    is_left_border = False if pixel[1]-1 >= 0 else True\n",
    "    is_right_border = False if pixel[1]+1 < image.shape[1] else True\n",
    "    \n",
    "    if (not is_top_border) and (not is_left_border):\n",
    "        l.append(image[pixel[0]-1,pixel[1]-1])\n",
    "    if (not is_top_border):\n",
    "        l.append(image[pixel[0]-1,pixel[1]])\n",
    "    if (not is_top_border) and (not is_right_border):\n",
    "        l.append(image[pixel[0]-1,pixel[1]+1])\n",
    "    if (not is_left_border):\n",
    "        l.append(image[pixel[0],pixel[1]-1])\n",
    "    if (not is_right_border):\n",
    "        l.append(image[pixel[0],pixel[1]+1])\n",
    "    if (not is_bot_border) and (not is_left_border):\n",
    "        l.append(image[pixel[0]+1,pixel[1]-1])\n",
    "    if (not is_bot_border):\n",
    "        l.append(image[pixel[0]+1,pixel[1]])\n",
    "    if (not is_bot_border) and (not is_right_border):\n",
    "        l.append(image[pixel[0]+1,pixel[1]+1])\n",
    "    return l\n",
    "                \n",
    "def getMinDirection(image, pixel):\n",
    "    is_top_border = False if pixel[0]-1 > 0 else True\n",
    "    is_bot_border = False if pixel[0]+1 < image.shape[0] else True\n",
    "    is_left_border = False if pixel[1]-1 > 0 else True\n",
    "    is_right_border = False if pixel[1]+1 < image.shape[1] else True\n",
    "    \n",
    "    if (not is_right_border) and image[pixel[0],pixel[1]+1] == min(neighbours(image, pixel)):\n",
    "        return 0\n",
    "    if (not is_top_border) and (not is_right_border) and image[pixel[0]-1,pixel[1]+1] == min(neighbours(image, pixel)):\n",
    "        return 1\n",
    "    if (not is_top_border) and image[pixel[0]-1,pixel[1]] == min(neighbours(image, pixel)):\n",
    "        return 2\n",
    "    if (not is_left_border) and image[pixel[0]-1,pixel[1]-1] == min(neighbours(image, pixel)):\n",
    "        return 3\n",
    "    if image[pixel[0],pixel[1]-1] == min(neighbours(image, pixel)):\n",
    "        return 4\n",
    "    if (not is_bot_border) and (not is_left_border) and image[pixel[0]+1,pixel[1]-1] == min(neighbours(image, pixel)):\n",
    "        return 5\n",
    "    if (not is_bot_border) and image[pixel[0]+1,pixel[1]] == min(neighbours(image, pixel)):\n",
    "        return 6\n",
    "    if (not is_bot_border) and (not is_right_border) and image[pixel[0]+1,pixel[1]+1] == min(neighbours(image, pixel)):\n",
    "        return 7\n",
    "    return -1"
   ]
  },
  {
   "cell_type": "code",
   "execution_count": 69,
   "metadata": {},
   "outputs": [],
   "source": [
    "pointers = np.zeros(img.shape, np.uint8)\n",
    "labels = {}\n",
    "\n",
    "for i in range(img.shape[0]):\n",
    "    for j in range(img.shape[1]):\n",
    "        if img[i,j] == max(neighbours(img, (i,j))) and img[i,j] == min(neighbours(img, (i,j))):\n",
    "            # pixel is plateau\n",
    "            pointers[i,j] = bfs(img, (i,j))\n",
    "            labels[(i,j)] = \"plateau\"\n",
    "        elif img[i,j] <= min(neighbours(img, (i,j))):\n",
    "            # pixel is local minimum\n",
    "            pointers[i,j] = -1\n",
    "            labels[(i,j)] = \"minimum\"\n",
    "        else:\n",
    "            # pixel is normal\n",
    "            pointers[i,j] = getMinDirection(img, (i,j))\n",
    "            labels[(i,j)] = \"normal\"\n",
    "            "
   ]
  },
  {
   "cell_type": "code",
   "execution_count": 110,
   "metadata": {},
   "outputs": [],
   "source": [
    "pointers_str = np.char.mod('%d', pointers)"
   ]
  },
  {
   "cell_type": "code",
   "execution_count": 111,
   "metadata": {},
   "outputs": [],
   "source": [
    "for i in range(0,len(pointers_str)):\n",
    "    for j in range(0,len(pointers_str[0])):\n",
    "        if (pointers[i,j] == 255):\n",
    "            pointers_str[i,j] = '·'\n",
    "        if (pointers[i,j] == 0):\n",
    "            pointers_str[i,j] = '→'\n",
    "        if (pointers[i,j] == 1):\n",
    "            pointers_str[i,j] = '↗'\n",
    "        if (pointers[i,j] == 2):\n",
    "            pointers_str[i,j] = '↑'\n",
    "        if (pointers[i,j] == 3):\n",
    "            pointers_str[i,j] = '↖'\n",
    "        if (pointers[i,j] == 4):\n",
    "            pointers_str[i,j] = '←'\n",
    "        if (pointers[i,j] == 5):\n",
    "            pointers_str[i,j] = '↙'\n",
    "        if (pointers[i,j] == 6):\n",
    "            pointers_str[i,j] = '↓'\n",
    "        if (pointers[i,j] == 7):\n",
    "            pointers_str[i,j] = '↘'"
   ]
  },
  {
   "cell_type": "code",
   "execution_count": 114,
   "metadata": {},
   "outputs": [
    {
     "name": "stdout",
     "output_type": "stream",
     "text": [
      "· ← ← ← ← → · ↘ ↖ ↙\n",
      "· · ↖ ↖ ↖ · · → · ←\n",
      "↑ · ↖ · ↗ ↗ ↑ ↗ ↑ ↖\n",
      "↑ · · · ↘ ↗ ↑ ↖ ↖ ↖\n",
      "↑ · · · → ↗ ↑ ↖ ↖ ↖\n",
      "↓ ↓ ↙ ↙ ↙ ↙ ↙ ↙ ↙ ↙\n",
      "· · · · · ↘ ↓ ↙ ↙ ↙\n",
      "↘ ↓ ↙ ↗ ↘ → · · · ←\n",
      "→ · ← ↖ → · · · · ↖\n",
      "↗ ↑ ↖ ↖ ↗ ↗ → · ↑ ↖\n"
     ]
    },
    {
     "data": {
      "image/png": "[encoded data removed]",
      "text/plain": [
       "<Figure size 432x288 with 1 Axes>"
      ]
     },
     "metadata": {
      "needs_background": "light"
     },
     "output_type": "display_data"
    }
   ],
   "source": [
    "for line in pointers_str:\n",
    "    print(*line)\n",
    "plt.imshow(img,cmap='gray')\n",
    "plt.show()"
   ]
  },
  {
   "cell_type": "code",
   "execution_count": null,
   "metadata": {},
   "outputs": [],
   "source": []
  }
 ],
 "metadata": {
  "kernelspec": {
   "display_name": "Python 3",
   "language": "python",
   "name": "python3"
  },
  "language_info": {
   "codemirror_mode": {
    "name": "ipython",
    "version": 3
   },
   "file_extension": ".py",
   "mimetype": "text/x-python",
   "name": "python",
   "nbconvert_exporter": "python",
   "pygments_lexer": "ipython3",
   "version": "3.8.2"
  }
 },
 "nbformat": 4,
 "nbformat_minor": 2
}
